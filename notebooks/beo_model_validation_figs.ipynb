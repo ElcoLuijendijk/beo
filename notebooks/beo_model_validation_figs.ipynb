{
 "cells": [
  {
   "cell_type": "markdown",
   "metadata": {},
   "source": [
    "# Beo model validation\n",
    "\n",
    "Make figures of model validation of escript for heat conduction and heat advection by comparing to analytical solutions\n"
   ]
  },
  {
   "cell_type": "code",
   "execution_count": 31,
   "metadata": {},
   "outputs": [
    {
     "name": "stderr",
     "output_type": "stream",
     "text": [
      "/usr/lib/python2.7/dist-packages/simplejson/encoder.py:262: DeprecationWarning: Interpreting naive datetime as local 2018-11-15 18:33:50.094802. Please add timezone info to timestamps.\n",
      "  chunks = self.iterencode(o, _one_shot=True)\n"
     ]
    }
   ],
   "source": [
    "%matplotlib inline\n",
    "import itertools\n",
    "import numpy as np\n",
    "import matplotlib.pyplot as pl\n",
    "import scipy.special"
   ]
  },
  {
   "cell_type": "markdown",
   "metadata": {},
   "source": [
    "## import escript modules\n",
    "\n",
    "We will use the generic finite element code escript for numerical solution of the heat transfer equation. Get escript here: https://launchpad.net/escript-finley\n",
    "\n",
    "This notebook also assumed the escript modules added to your system path and are finable by Python. See the guide below on how to do this:\n",
    "\n",
    "\n",
    "### Downloading Beo\n",
    "\n",
    "* click the download link on the right for a zip file of the source code\n",
    "* or clone the repository\n",
    "\n",
    "### Installing & running \n",
    "\n",
    "* Install Escript\n",
    "\n",
    "    - get the code here: https://launchpad.net/escript-finley\n",
    "    - an installation guide can be found here: http://esys.geocomp.uq.edu.au/docs\n",
    "\n",
    "* Unzip the beo source code  \n",
    "* Navigate to the directory where you have installed escript. Go to the subdirectory bin (``python-escript/bin/``) and run Beo by executing the following command from the command line:\n",
    "\t\n",
    "````bash\n",
    "./run-escript beo_dir/beo.py\n",
    "````\t\n",
    "\n",
    "Where ``beo_dir`` is the directory where you have saved Beo.\n",
    "\n",
    "Alternatively use the command \n",
    "\n",
    "````bash\n",
    "./run-escript -e\n",
    "````\n",
    "\n",
    "This will show you three lines that define environment variables that your system needs to be able to find the location of escript. Add these lines to your .bashrc (Ubuntu linux) or profile file in your home directory. After adding these lines and logging out and in again, you can start beo by going to the directory where the beo code is located (so not to the escript/bin directory) and start beo.py like any regular python code:\n",
    "\n",
    "````bash\n",
    "python beo.py model_parameters/model_parameters.py\n",
    "````\n",
    "\n",
    "where ``model_parameters/model_parameters.py`` is a file containing all model parameters. An example file called ``model_parameters.py`` is located in the directory ``model_parameters``."
   ]
  },
  {
   "cell_type": "code",
   "execution_count": 32,
   "metadata": {},
   "outputs": [
    {
     "name": "stderr",
     "output_type": "stream",
     "text": [
      "/usr/lib/python2.7/dist-packages/simplejson/encoder.py:262: DeprecationWarning: Interpreting naive datetime as local 2018-11-15 18:33:50.110222. Please add timezone info to timestamps.\n",
      "  chunks = self.iterencode(o, _one_shot=True)\n"
     ]
    }
   ],
   "source": [
    "import esys.escript as es\n",
    "import esys.escript.linearPDEs as linearPDEs\n",
    "from esys.finley import Rectangle"
   ]
  },
  {
   "cell_type": "markdown",
   "metadata": {},
   "source": [
    "## Set up parameters:"
   ]
  },
  {
   "cell_type": "code",
   "execution_count": 33,
   "metadata": {},
   "outputs": [
    {
     "name": "stderr",
     "output_type": "stream",
     "text": [
      "/usr/lib/python2.7/dist-packages/simplejson/encoder.py:262: DeprecationWarning: Interpreting naive datetime as local 2018-11-15 18:33:50.254641. Please add timezone info to timestamps.\n",
      "  chunks = self.iterencode(o, _one_shot=True)\n"
     ]
    }
   ],
   "source": [
    "# make grid of k and thickness\n",
    "zs = np.linspace(10, 1000, 100)\n",
    "T0 = 0.0\n",
    "T1 = 30.0\n",
    "L = 1000.0\n",
    "rho = 1000.0\n",
    "c = 900.0\n",
    "K = 2.5\n",
    "\n",
    "qs = [0.001, 0.01, 0.1, 0.5, 1.0, 5.0]\n",
    "cs = ['gray', 'blue', 'brown', 'green', 'orange', 'red']\n",
    "\n",
    "year = 365.25 * 24 * 60 * 60"
   ]
  },
  {
   "cell_type": "markdown",
   "metadata": {},
   "source": [
    "## time discretization of the heat flow equation\n",
    "\n",
    "choose 'implicit' or 'explicit' below\n",
    "\n",
    "note that for explicit methods the timestep size is constrained by the Courant_Friedrich-Levy (CFL) condition: \n",
    "\n",
    "$$CFL = q \\Delta t / \\Delta x$$\n",
    "\n",
    "where q is flux (m/s), $\\Delta t$ is the timestep size (s) and $\\Delta x$ is the grid size. The CFL number should be less than 1."
   ]
  },
  {
   "cell_type": "code",
   "execution_count": null,
   "metadata": {},
   "outputs": [],
   "source": [
    "discretization == 'explicit'"
   ]
  },
  {
   "cell_type": "markdown",
   "metadata": {},
   "source": [
    "## Analytical solution\n",
    "\n",
    "Calculate temperature using analytical solution by Bredehoeft & Papaopulos (1965) WRR:\n",
    "\n",
    "$$T = \\dfrac{e^{((\\beta \\: z )/ L)} - 1}{e^{\\beta} - 1} \\Delta T + T_0$$\n",
    "\n",
    "and\n",
    "\n",
    "$$\\beta = -c \\rho q L / K$$\n",
    "\n",
    "where z is depth (m), $\\Delta T$ is the temperature difference between the top and the bottom of the domain (K), $T_0$ is the temperature at the top of the domain, c is heat capacity (J kg-1 K-1), $\\rho$ is density, L is length (m) and K is thermal conductivity (W m-1 K-1)."
   ]
  },
  {
   "cell_type": "code",
   "execution_count": 34,
   "metadata": {},
   "outputs": [
    {
     "name": "stderr",
     "output_type": "stream",
     "text": [
      "/usr/lib/python2.7/dist-packages/simplejson/encoder.py:262: DeprecationWarning: Interpreting naive datetime as local 2018-11-15 18:33:50.397230. Please add timezone info to timestamps.\n",
      "  chunks = self.iterencode(o, _one_shot=True)\n"
     ]
    }
   ],
   "source": [
    "Ts = []\n",
    "for q in qs:\n",
    "    q_ms = q / (365.25 * 24 * 60 * 60.0)\n",
    "    beta = -c * rho * q_ms * L / K\n",
    "    Tr = (np.exp((beta * zs) / L) - 1.0) / (np.exp(beta) - 1.0)\n",
    "    T = Tr * (T1 - T0) + T0\n",
    "    \n",
    "    Ts.append(T)"
   ]
  },
  {
   "cell_type": "markdown",
   "metadata": {},
   "source": [
    "## Set up numerical model"
   ]
  },
  {
   "cell_type": "code",
   "execution_count": 35,
   "metadata": {},
   "outputs": [
    {
     "name": "stdout",
     "output_type": "stream",
     "text": [
      "running numerical model for q=0.00\n",
      "modeled T =  Summary: inf=0 sup=30 data points=402 , mean =  15.028398286099513\n",
      "running numerical model for q=0.01\n",
      "modeled T =  Summary: inf=0 sup=30 data points=402 , mean =  15.283650703888885\n",
      "running numerical model for q=0.10\n",
      "modeled T =  Summary: inf=0 sup=30 data points=402 , mean =  17.777894954933586\n",
      "running numerical model for q=0.50\n",
      "modeled T =  Summary: inf=0 sup=30 data points=402 , mean =  24.791774645874202\n",
      "running numerical model for q=1.00\n",
      "modeled T =  Summary: inf=0 sup=30 data points=402 , mean =  27.309004180129932\n",
      "running numerical model for q=5.00\n",
      "modeled T =  Summary: inf=0 sup=30 data points=402 , mean =  29.40203004445879\n"
     ]
    },
    {
     "name": "stderr",
     "output_type": "stream",
     "text": [
      "/usr/lib/python2.7/dist-packages/simplejson/encoder.py:262: DeprecationWarning: Interpreting naive datetime as local 2018-11-15 18:33:50.539144. Please add timezone info to timestamps.\n",
      "  chunks = self.iterencode(o, _one_shot=True)\n"
     ]
    }
   ],
   "source": [
    "def convert_to_array(u, no_coords=False):\n",
    "\n",
    "    \"\"\"\n",
    "    Return the x,y coordinates and the value of escript variable u as\n",
    "    a numpy array\n",
    "    \"\"\"\n",
    "\n",
    "    coords = u.getFunctionSpace().getX()\n",
    "    x, y = coords[0], coords[1]\n",
    "\n",
    "    xy = np.array([x.toListOfTuples(), y.toListOfTuples()]).T\n",
    "\n",
    "    u_array = np.array(u.toListOfTuples())\n",
    "\n",
    "    assert len(u_array.shape) == 1\n",
    "\n",
    "    if no_coords is True:\n",
    "        return u_array\n",
    "    else:\n",
    "        return xy, u_array\n",
    "    \n",
    "\n",
    "nx = 200\n",
    "mesh = Rectangle(l0=L, l1=1, n0=nx, n1=1)\n",
    "\n",
    "hf_pde = linearPDEs.LinearPDE(mesh)\n",
    "\n",
    "xyz = mesh.getX()\n",
    "\n",
    "hf_pde.getSolverOptions().setSolverMethod(es.SolverOptions.GMRES)\n",
    "\n",
    "top_bnd = es.whereZero(xyz[0] - es.sup(xyz[0]))\n",
    "bottom_bnd = es.whereZero(xyz[0] - es.inf(xyz[0]))\n",
    "specified_T_loc = es.wherePositive(top_bnd) + es.wherePositive(bottom_bnd)\n",
    "specified_T = es.wherePositive(top_bnd) * T1 + es.wherePositive(bottom_bnd) * T0\n",
    "\n",
    "\n",
    "T_nums = []\n",
    "\n",
    "for q in qs:\n",
    "    \n",
    "    print 'running numerical model for q=%0.2f' % q\n",
    "    \n",
    "    # set PDE coefficients, steady-state flow equation\n",
    "    q_vector = es.Vector((-q / year, 0), es.Function(mesh))\n",
    "    \n",
    "    A = K * es.kronecker(mesh)\n",
    "    C = rho * c * q_vector\n",
    "    D = 0\n",
    "    Y = 0\n",
    "    hf_pde.setValue(A=A, C=C, D=D, Y=Y,\n",
    "                r=specified_T,\n",
    "                q=specified_T_loc)\n",
    "    \n",
    "    T_num = hf_pde.getSolution()\n",
    "    \n",
    "    T_array = convert_to_array(T_num, no_coords=True)\n",
    "    \n",
    "    T_nums.append(T_array)\n",
    "    \n",
    "    print 'modeled T = ', T_num, ', mean = ', T_array.mean()\n",
    "    \n"
   ]
  },
  {
   "cell_type": "code",
   "execution_count": 36,
   "metadata": {},
   "outputs": [
    {
     "name": "stderr",
     "output_type": "stream",
     "text": [
      "/usr/lib/python2.7/dist-packages/simplejson/encoder.py:262: DeprecationWarning: Interpreting naive datetime as local 2018-11-15 18:33:52.634185. Please add timezone info to timestamps.\n",
      "  chunks = self.iterencode(o, _one_shot=True)\n"
     ]
    }
   ],
   "source": [
    "#T_list = [convert_to_array(T_num, no_coords=True) for T_num in T_nums]\n",
    "x_num, _ = convert_to_array(T_num)\n"
   ]
  },
  {
   "cell_type": "code",
   "execution_count": 37,
   "metadata": {},
   "outputs": [
    {
     "data": {
      "text/plain": [
       "(402, 2)"
      ]
     },
     "execution_count": 37,
     "metadata": {},
     "output_type": "execute_result"
    },
    {
     "name": "stderr",
     "output_type": "stream",
     "text": [
      "/usr/lib/python2.7/dist-packages/simplejson/encoder.py:262: DeprecationWarning: Interpreting naive datetime as local 2018-11-15 18:33:52.639968. Please add timezone info to timestamps.\n",
      "  chunks = self.iterencode(o, _one_shot=True)\n"
     ]
    }
   ],
   "source": [
    "x_num.shape"
   ]
  },
  {
   "cell_type": "markdown",
   "metadata": {},
   "source": [
    "## Show results in figure:"
   ]
  },
  {
   "cell_type": "code",
   "execution_count": 38,
   "metadata": {},
   "outputs": [
    {
     "data": {
      "image/png": "[encoded data removed]",
      "text/plain": [
       "<matplotlib.figure.Figure at 0x7faae8090dd0>"
      ]
     },
     "metadata": {},
     "output_type": "display_data"
    },
    {
     "name": "stderr",
     "output_type": "stream",
     "text": [
      "/usr/lib/python2.7/dist-packages/simplejson/encoder.py:262: DeprecationWarning: Interpreting naive datetime as local 2018-11-15 18:33:52.783660. Please add timezone info to timestamps.\n",
      "  chunks = self.iterencode(o, _one_shot=True)\n"
     ]
    }
   ],
   "source": [
    "######\n",
    "fig, ax = pl.subplots(1, 1)\n",
    "\n",
    "for T, q, color in zip(Ts, qs, cs):\n",
    "    label = r'$q=' + str(q) + '\\;m\\;a^{-1}$'\n",
    "    ax.plot(T, zs, color=color, label=label, ls='-', lw=1.5)\n",
    "\n",
    "\n",
    "for i, Tn, color in zip(itertools.count(), T_nums, cs):\n",
    "    if i == 0:\n",
    "        label = 'numerical solutions'\n",
    "    else: \n",
    "        label = None\n",
    "    ax.plot(Tn, x_num[:, 0], color='k', ls=':', label=label)\n",
    "\n",
    "ax.legend(loc='lower left', frameon=False)\n",
    "ax.set_xlabel(r'Temperature ($\\degree C$)')\n",
    "ax.set_ylabel('Depth (m)')\n",
    "ax.set_ylim(L, 0)\n",
    "\n",
    "#ax.grid()\n",
    "\n",
    "fig.tight_layout()\n",
    "\n",
    "ax.spines['top'].set_visible(False)\n",
    "ax.spines['right'].set_visible(False)\n",
    "\n",
    "fig.savefig('fig/heat_advection_validation.pdf', dpi=200)\n"
   ]
  },
  {
   "cell_type": "markdown",
   "metadata": {},
   "source": [
    "## Analytical transient conduction\n",
    "\n",
    "We check whether our numerical model is correct by comparing our solution to an analytical solution for the cooling of an intrusive in the subsurface. The solution for temperature change of an initially perturbed temperature field is [@Carslaw1959]:\n",
    "\n",
    "\\begin{equation}\n",
    "    T(z,t) = T_b + \\frac{T_i - T_b}{2} \\left( erf \\left(\\frac{L-z}{2 \\sqrt{\\kappa t}} \\right) + erf \\left(\\frac{L+z}{2 \\sqrt{\\kappa t}} \\right) \\right)\n",
    "\\end{equation}\n",
    "\n",
    "where *T~b~* is the background temperature, *T~i~* is the temperature of the intrusive, *L* is the length of the intrusive.\n",
    "\n",
    "Following [@Ehlers2005] we use this equation to simulate cooling of an intrusive in the subsurface. The numerical and analytical solutions for cooling are shown in Figure 1. The Intrusive body has an initial temperature of 700 degrees C, and stretches from 0 to 500 m distance. The background temperature is 50 degrees C. The solutions match to within ... degree C and show the gradual decrease in temperatures. "
   ]
  },
  {
   "cell_type": "code",
   "execution_count": 39,
   "metadata": {},
   "outputs": [
    {
     "name": "stderr",
     "output_type": "stream",
     "text": [
      "/usr/lib/python2.7/dist-packages/simplejson/encoder.py:262: DeprecationWarning: Interpreting naive datetime as local 2018-11-15 18:33:53.484549. Please add timezone info to timestamps.\n",
      "  chunks = self.iterencode(o, _one_shot=True)\n"
     ]
    }
   ],
   "source": [
    "def analytical_solution_temperature_change(z, t, L, Ts, Tb, kappa):\n",
    "\n",
    "    \"\"\"\n",
    "    z = distance (m)\n",
    "    t = time (sec)\n",
    "    L = size of intrusion (m)\n",
    "    Ts = surface temperature (at intrusion)\n",
    "    Tb = background temperature (K)\n",
    "    kappa = thermal diffusivity\n",
    "    \"\"\"\n",
    "\n",
    "    temperature = Tb + (Ts - Tb) / 2.0 * (\n",
    "        scipy.special.erf((L - z) / (2 * np.sqrt(kappa*t))) +\n",
    "        scipy.special.erf((L + z) / (2 * np.sqrt(kappa * t))))\n",
    "\n",
    "    return temperature"
   ]
  },
  {
   "cell_type": "code",
   "execution_count": 72,
   "metadata": {},
   "outputs": [
    {
     "name": "stderr",
     "output_type": "stream",
     "text": [
      "/usr/lib/python2.7/dist-packages/simplejson/encoder.py:262: DeprecationWarning: Interpreting naive datetime as local 2018-11-15 18:58:19.000694. Please add timezone info to timestamps.\n",
      "  chunks = self.iterencode(o, _one_shot=True)\n"
     ]
    }
   ],
   "source": [
    "L = 500\n",
    "# thermal diffusivity in Ehlers (2005)\n",
    "kappa = 32.0 / year\n",
    "Kelvin = 273.15\n",
    "# surface T\n",
    "Ts = 700.0 + Kelvin\n",
    "# background temp\n",
    "Tb = 50.0 + Kelvin\n",
    "# density\n",
    "rho = 2000.0\n",
    "# specific heat capacity\n",
    "cp = 900.0\n",
    "# estimate K from Ehlers(2005) thermal diffusivity\n",
    "K = kappa * rho * cp\n",
    "\n",
    "nx = 2000\n",
    "dx = 5.0\n",
    "xis = np.arange(nx) * dx + dx / 2.0\n",
    "\n",
    "ts  = [20 * year, 1e3*year, 1e4*year]\n",
    "\n",
    "Ti_an = [analytical_solution_temperature_change(xis, t, L, Ts, Tb, kappa) for t in ts]"
   ]
  },
  {
   "cell_type": "code",
   "execution_count": 73,
   "metadata": {},
   "outputs": [
    {
     "name": "stderr",
     "output_type": "stream",
     "text": [
      "/usr/lib/python2.7/dist-packages/simplejson/encoder.py:262: DeprecationWarning: Interpreting naive datetime as local 2018-11-15 18:58:22.487747. Please add timezone info to timestamps.\n",
      "  chunks = self.iterencode(o, _one_shot=True)\n"
     ]
    }
   ],
   "source": [
    "\n",
    "#nx = 200\n",
    "mesh = Rectangle(l0=xis.max(), l1=1, n0=nx, n1=1)\n",
    "\n",
    "hf_pde = linearPDEs.LinearPDE(mesh)\n",
    "\n",
    "xyz = mesh.getX()\n",
    "\n",
    "Kb = xyz[0] * 0.0\n",
    "cb = xyz[0] * 0.0\n",
    "\n",
    "hf_pde.getSolverOptions().setSolverMethod(es.SolverOptions.GMRES)\n",
    "\n",
    "top_bnd = es.whereZero(xyz[0] - es.sup(xyz[0]))\n",
    "bottom_bnd = es.whereZero(xyz[0] - es.inf(xyz[0]))\n",
    "#specified_T_loc = es.wherePositive(bottom_bnd)\n",
    "#specified_T = es.wherePositive(top_bnd) * Ts + es.wherePositive(bottom_bnd) * Tb\n",
    "\n",
    "T_num = es.whereNegative(xyz[0] - L) * Ts + es.whereNonNegative(xyz[0] - L) * Tb\n",
    "\n",
    "T_nums = []\n",
    "\n",
    "dt = 10 * year\n",
    "nt = 1001\n",
    "\n",
    "t_nums = np.arange(nt) * dt\n",
    "\n",
    "for nti in range(nt):\n",
    "    \n",
    "    if discretization == 'implicit':\n",
    "        # set PDE coefficients, transient heat flow equation\n",
    "        A = dt * K * es.kronecker(mesh)\n",
    "        #C = dt * rho_f * c_f * q_vector\n",
    "        #C = 0\n",
    "        D = rho * cp\n",
    "        Y = rho * cp * T_num\n",
    "        \n",
    "    elif discretization == 'explicit':\n",
    "        \n",
    "        D = rho * cp\n",
    "        X = dt * K * es.grad(T_num)\n",
    "        Y = rho * cp * T_num\n",
    "        \n",
    "    hf_pde.setValue(A=A, D=D, Y=Y)\n",
    "    \n",
    "    T_num = hf_pde.getSolution()\n",
    "    \n",
    "    T_array = convert_to_array(T_num, no_coords=True)\n",
    "    \n",
    "    T_nums.append(T_array)\n",
    "    \n",
    "    #print 'modeled T = ', T_num, ', mean = ', T_array.mean()\n",
    "    \n",
    "x_num, _ = convert_to_array(T_num)"
   ]
  },
  {
   "cell_type": "code",
   "execution_count": 74,
   "metadata": {},
   "outputs": [
    {
     "data": {
      "text/plain": [
       "4002"
      ]
     },
     "execution_count": 74,
     "metadata": {},
     "output_type": "execute_result"
    },
    {
     "name": "stderr",
     "output_type": "stream",
     "text": [
      "/usr/lib/python2.7/dist-packages/simplejson/encoder.py:262: DeprecationWarning: Interpreting naive datetime as local 2018-11-15 18:58:31.080710. Please add timezone info to timestamps.\n",
      "  chunks = self.iterencode(o, _one_shot=True)\n"
     ]
    }
   ],
   "source": [
    "len(x_num)"
   ]
  },
  {
   "cell_type": "code",
   "execution_count": 89,
   "metadata": {},
   "outputs": [
    {
     "name": "stdout",
     "output_type": "stream",
     "text": [
      "10.0 numerical solution\n",
      "1000.0 \n",
      "10000.0 \n"
     ]
    },
    {
     "data": {
      "image/png": "[encoded data removed]",
      "text/plain": [
       "<matplotlib.figure.Figure at 0x7fab3422fa10>"
      ]
     },
     "metadata": {},
     "output_type": "display_data"
    },
    {
     "name": "stderr",
     "output_type": "stream",
     "text": [
      "/usr/lib/python2.7/dist-packages/simplejson/encoder.py:262: DeprecationWarning: Interpreting naive datetime as local 2018-11-15 19:06:37.040158. Please add timezone info to timestamps.\n",
      "  chunks = self.iterencode(o, _one_shot=True)\n"
     ]
    }
   ],
   "source": [
    "fig, ax = pl.subplots(1, 1)\n",
    "for T, t in zip(Ti_an, ts):\n",
    "    ax.plot(xis, T - Kelvin, lw=1.5, label='%0.0f years' %(t/year))\n",
    "    \n",
    "ind_plot = [1, 100, 1000]\n",
    "for i, j in enumerate(ind_plot):\n",
    "    if i == 0:\n",
    "        label = 'numerical solution'\n",
    "        #label = 'a'\n",
    "        ax.plot(x_num, T_nums[j] - Kelvin, color='black', ls=':', label=label)\n",
    "    else:\n",
    "        label=''\n",
    "        ax.plot(x_num, T_nums[j] - Kelvin, color='black', ls=':')\n",
    "    \n",
    "    print t_nums[j] / year, label\n",
    "\n",
    "ax.legend(frameon=False)\n",
    "ax.set_xlim(0, 2000)\n",
    "\n",
    "ax.set_ylabel(r'Temperature ($\\degree C$)')\n",
    "ax.set_xlabel('Distance (m)')\n",
    "\n",
    "fig.tight_layout()\n",
    "\n",
    "ax.spines['top'].set_visible(False)\n",
    "ax.spines['right'].set_visible(False)\n",
    "\n",
    "fig.savefig('fig/heat_conduction_validation.pdf', dpi=200)\n"
   ]
  },
  {
   "cell_type": "code",
   "execution_count": null,
   "metadata": {},
   "outputs": [],
   "source": []
  },
  {
   "cell_type": "code",
   "execution_count": null,
   "metadata": {},
   "outputs": [],
   "source": []
  }
 ],
 "metadata": {
  "kernelspec": {
   "display_name": "Python 3",
   "language": "python",
   "name": "python3"
  },
  "language_info": {
   "codemirror_mode": {
    "name": "ipython",
    "version": 3
   },
   "file_extension": ".py",
   "mimetype": "text/x-python",
   "name": "python",
   "nbconvert_exporter": "python",
   "pygments_lexer": "ipython3",
   "version": "3.4.3"
  }
 },
 "nbformat": 4,
 "nbformat_minor": 2
}
