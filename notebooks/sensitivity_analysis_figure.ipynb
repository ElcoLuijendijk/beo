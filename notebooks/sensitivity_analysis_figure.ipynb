{
 "cells": [
  {
   "cell_type": "markdown",
   "metadata": {},
   "source": [
    "# Construct a figure showing sensitivity analysis results:\n",
    "\n",
    "example notebook to create a figure to show sensitivity analysis results by Beo"
   ]
  },
  {
   "cell_type": "code",
   "execution_count": 2,
   "metadata": {},
   "outputs": [],
   "source": [
    "import pandas as pd\n",
    "import matplotlib.pyplot as pl"
   ]
  },
  {
   "cell_type": "code",
   "execution_count": 3,
   "metadata": {},
   "outputs": [],
   "source": [
    "# name of the file containing the data in .csv format\n",
    "data_file = 'data/example_data.csv'"
   ]
  },
  {
   "cell_type": "markdown",
   "metadata": {},
   "source": [
    "Define the columns that contain the input parameters and model results:"
   ]
  },
  {
   "cell_type": "code",
   "execution_count": 4,
   "metadata": {},
   "outputs": [],
   "source": [
    "# name of the index column:\n",
    "index_column = 'index'\n",
    "\n",
    "# index row for the base case model\n",
    "base_case_model = 0\n",
    "\n",
    "# list the parameters that you want to include\n",
    "sensitivity_params = ['q', 'duration']\n",
    "\n",
    "# list the first and last index row for each parameter\n",
    "param_rows = [[1, 3], [4, 6]]\n",
    "\n",
    "# show the percentage change or the ratio of each parameter comapred to the base case:\n",
    "x_axis_scale = 'fraction'\n",
    "\n",
    "# what to plot on the y axis\n",
    "result_param = 'width'"
   ]
  },
  {
   "cell_type": "markdown",
   "metadata": {},
   "source": [
    "Some parameters that control how the figure looks:"
   ]
  },
  {
   "cell_type": "code",
   "execution_count": 18,
   "metadata": {},
   "outputs": [],
   "source": [
    "# markers for the different parameters\n",
    "markers = ['o', 'o']\n",
    "base_case_marker = '*'\n",
    "marker_size = 50\n",
    "base_case_marker_size = 150\n",
    "\n",
    "# labels for the legend\n",
    "labels = [r'Flux (m$^2$yr$^{-1}$)', 'Duration (yr)']\n",
    "\n",
    "# label on x and y-axis\n",
    "xlabel = 'Parameter change (fraction)'\n",
    "ylabel = 'Width of the AHe partial resetting zone (m)'\n",
    "\n",
    "# limits of the x and y-axis\n",
    "xlim = [0, 2.0]\n",
    "ylim = [0, 50]\n",
    "\n",
    "# colors for the different parameters\n",
    "# use standard colors like this:\n",
    "#colors = ['blue', 'orange']\n",
    "# or check here for nicer RGB color schemes: http://colorbrewer2.org/#type=qualitative&scheme=Set2&n=3\n",
    "colors = [[102/255., 194/255., 165/255.], [252/255., 141/255., 98/255.], [141/255., 160/255., 203/255.]]\n",
    "\n",
    "legend_location = 'upper left'\n",
    "legend_font_size = 'small'\n",
    "\n",
    "# figure size (in inches):\n",
    "figsize = (6, 4)"
   ]
  },
  {
   "cell_type": "markdown",
   "metadata": {},
   "source": [
    "Read the data file:"
   ]
  },
  {
   "cell_type": "code",
   "execution_count": 19,
   "metadata": {},
   "outputs": [],
   "source": [
    "# read the datafile using pandas:\n",
    "df = pd.read_csv(data_file)\n",
    "df = df.set_index(index_column)"
   ]
  },
  {
   "cell_type": "markdown",
   "metadata": {},
   "source": [
    "make the figure:"
   ]
  },
  {
   "cell_type": "code",
   "execution_count": 21,
   "metadata": {},
   "outputs": [
    {
     "data": {
      "image/png": "[encoded data removed]",
      "text/plain": [
       "<Figure size 432x288 with 1 Axes>"
      ]
     },
     "metadata": {},
     "output_type": "display_data"
    }
   ],
   "source": [
    "fig, panel = pl.subplots(1, 1, figsize=figsize)\n",
    "\n",
    "for param, param_row, color, marker, label in zip(sensitivity_params, param_rows, colors, markers, labels):\n",
    "\n",
    "    base_value_x = df.loc[base_case_model, param]\n",
    "    base_value_y = df.loc[base_case_model, result_param]\n",
    "\n",
    "    param_values = df.loc[param_row[0]:param_row[1], param]\n",
    "\n",
    "    if x_axis_scale is 'fraction':\n",
    "        x_values = param_values / base_value_x\n",
    "\n",
    "    y_values = df.loc[param_row[0]:param_row[1], result_param]\n",
    "\n",
    "    panel.plot(x_values, y_values, color=color, label='', zorder=100)\n",
    "    panel.scatter(x_values, y_values, color=color, edgecolor='black', marker=marker, s=marker_size, label=label, zorder=101)\n",
    "\n",
    "# show the base case value:\n",
    "panel.scatter([1.0], [base_value_y],\n",
    "              color=color, edgecolor='black', marker=base_case_marker,\n",
    "              s=base_case_marker_size, label='base case', zorder=100)\n",
    "\n",
    "# add a legend:\n",
    "panel.legend(loc=legend_location, ncol=1, frameon=False, fontsize=legend_font_size)\n",
    "\n",
    "# add labels and rescale the axis\n",
    "panel.set_xlabel(xlabel)\n",
    "panel.set_ylabel(ylabel)\n",
    "panel.set_xlim(xlim)\n",
    "panel.set_ylim(ylim)\n",
    "\n",
    "# make the figure look nicer:\n",
    "panel.grid(False)\n",
    "panel.spines['top'].set_visible(False)\n",
    "panel.spines['right'].set_visible(False)\n",
    "panel.get_xaxis().tick_bottom()\n",
    "panel.get_yaxis().tick_left()\n",
    "fig.tight_layout()"
   ]
  },
  {
   "cell_type": "markdown",
   "metadata": {},
   "source": [
    "and save the figure:"
   ]
  },
  {
   "cell_type": "code",
   "execution_count": 8,
   "metadata": {},
   "outputs": [
    {
     "name": "stdout",
     "output_type": "stream",
     "text": [
      "done, saving figure as data/example_data_sensitivity_fig.pdf\n"
     ]
    }
   ],
   "source": [
    "# svae the figure as pdf and png file\n",
    "fn = data_file[:-4] + '_sensitivity_fig.pdf'\n",
    "print('done, saving figure as %s' % fn)\n",
    "fig.savefig(fn)"
   ]
  },
  {
   "cell_type": "code",
   "execution_count": null,
   "metadata": {},
   "outputs": [],
   "source": []
  }
 ],
 "metadata": {
  "kernelspec": {
   "display_name": "Python 3",
   "language": "python",
   "name": "python3"
  },
  "language_info": {
   "codemirror_mode": {
    "name": "ipython",
    "version": 3
   },
   "file_extension": ".py",
   "mimetype": "text/x-python",
   "name": "python",
   "nbconvert_exporter": "python",
   "pygments_lexer": "ipython3",
   "version": "3.4.3"
  }
 },
 "nbformat": 4,
 "nbformat_minor": 2
}
