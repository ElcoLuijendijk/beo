{
 "cells": [
  {
   "cell_type": "markdown",
   "metadata": {},
   "source": [
    "# Construct a figure showing sensitivity analysis results:\n",
    "\n",
    "example notebook to create a figure to show sensitivity analysis results by Beo"
   ]
  },
  {
   "cell_type": "code",
   "execution_count": 338,
   "metadata": {},
   "outputs": [],
   "source": [
    "import itertools\n",
    "import pandas as pd\n",
    "import numpy as np\n",
    "import matplotlib.pyplot as pl"
   ]
  },
  {
   "cell_type": "code",
   "execution_count": 339,
   "metadata": {},
   "outputs": [],
   "source": [
    "# name of the file containing the data in .csv format\n",
    "data_file = 'data/model_results_sensitivity_analysis_beowawe.csv'"
   ]
  },
  {
   "cell_type": "markdown",
   "metadata": {},
   "source": [
    "Define the columns that contain the input parameters and model results:"
   ]
  },
  {
   "cell_type": "code",
   "execution_count": 340,
   "metadata": {},
   "outputs": [],
   "source": [
    "# name of the index column:\n",
    "index_column = 'index'\n",
    "\n",
    "# index row for the base case model\n",
    "base_case_model = 0\n",
    "\n",
    "# list the parameters that you want to include\n",
    "sensitivity_params = ['fault_widths', 'fault_fluxes', 'exhumation_rate', \n",
    "                      'thermal_gradient', 'ra', 'durations_yr']\n",
    "\n",
    "# list the first and last index row for each parameter\n",
    "#param_rows = [[1, 3], [4, 6]]\n",
    "\n",
    "# show the percentage change or the ratio of each parameter comapred to the base case:\n",
    "x_axis_scale = 'fraction'\n",
    "\n",
    "# what to plot on the y axis\n",
    "result_params = ['width_partial_reset', 'width_full_reset']\n",
    "\n",
    "# base case runtime: \n",
    "default_runtime = 2e5"
   ]
  },
  {
   "cell_type": "markdown",
   "metadata": {},
   "source": [
    "Some parameters that control how the figure looks:"
   ]
  },
  {
   "cell_type": "code",
   "execution_count": 341,
   "metadata": {},
   "outputs": [],
   "source": [
    "# markers for the different parameters\n",
    "markers = ['o', 's', 'v', '^', 'd', 'h']\n",
    "base_case_marker = '*'\n",
    "marker_size = 50\n",
    "base_case_marker_size = 150\n",
    "\n",
    "# labels for the legend\n",
    "labels = ['Width fault zone (m)', r'Flux (m$^2$a$^{-1}$)', r'Exhumation rate ($m yr^{-1}$)', \n",
    "          r'Thermal gradient ($\\^{\\circ}C m^{-1}$)', 'Aerodynamic resistance (unit?)', 'Duration (yr)']\n",
    "\n",
    "# label on x and y-axis\n",
    "xlabel = 'Parameter value / base value'\n",
    "ylabels = ['Width partial reset zone (m)', 'Width full reset zone (m)']\n",
    "\n",
    "# limits of the x and y-axis\n",
    "xlims = [[0, 2.5], [0, 11.0]]\n",
    "ylims = [[0, 150], [0, 3600]]\n",
    "\n",
    "# colors for the different parameters\n",
    "# use standard colors like this:\n",
    "#colors = ['blue', 'orange']\n",
    "# or check here for nicer RGB color schemes: http://colorbrewer2.org/#type=qualitative&scheme=Set2&n=3\n",
    "colors = [[102/255., 194/255., 165/255.], [252/255., 141/255., 98/255.], [141/255., 160/255., 203/255.], \n",
    "          [231/255., 138/255., 195/255.], [166/255., 216/255., 84/255.], [255/255., 217/255., 47/255.]]\n",
    "\n",
    "legend_location = 'lower right'\n",
    "legend_font_size = 'small'\n",
    "legend_ncol = 3\n",
    "\n",
    "# figure size (in inches):\n",
    "figsize = (8, 7)"
   ]
  },
  {
   "cell_type": "markdown",
   "metadata": {},
   "source": [
    "Read the data file:"
   ]
  },
  {
   "cell_type": "code",
   "execution_count": null,
   "metadata": {},
   "outputs": [],
   "source": [
    "# read the datafile using pandas:\n",
    "# cols to read in dataframe:\n",
    "#cols = ['runtime_yr', 'fault_widths', 'fault_fluxes', 'exhumation_rate', 'thermal_gradient', 'ra', 'durations', \n",
    "#        'x_min_partial_reset_surface', 'x_max_partial_reset_surface', 'x_min_full_reset_surface', 'x_max_full_reset_surface']\n",
    "\n",
    "#cols = ['runtime_yr', 'fault_widths', 'fault_fluxes', 'exhumation_rate', 'thermal_gradient', 'ra', 'durations',#, \n",
    "#       'x_min_partial_reset_surface']#, 'x_max_partial_reset_surface', 'x_min_full_reset_surface', 'x_max_full_reset_surface']\n",
    "\n",
    "\n",
    "df = pd.read_csv(data_file, usecols=cols)\n",
    "#df = df.set_index(index_column)\n",
    "df"
   ]
  },
  {
   "cell_type": "markdown",
   "metadata": {},
   "source": [
    "calculate the width of the partial and full reset zones:"
   ]
  },
  {
   "cell_type": "code",
   "execution_count": null,
   "metadata": {},
   "outputs": [],
   "source": [
    "df['width_partial_reset'] = df['x_max_partial_reset_surface'] - df['x_min_partial_reset_surface']\n",
    "df['width_full_reset'] = df['x_max_full_reset_surface'] - df['x_min_full_reset_surface']\n",
    "\n",
    "df.loc[df['width_partial_reset'].isnull(), 'width_partial_reset'] = 0\n",
    "df.loc[df['width_full_reset'].isnull(), 'width_full_reset'] = 0"
   ]
  },
  {
   "cell_type": "markdown",
   "metadata": {},
   "source": [
    "convert fluid flux column to array"
   ]
  },
  {
   "cell_type": "code",
   "execution_count": null,
   "metadata": {},
   "outputs": [],
   "source": [
    "list_cols = ['fault_fluxes', 'durations', 'fault_widths']\n",
    "\n",
    "for lcol in list_cols:\n",
    "    fl = df[lcol].values.tolist()\n",
    "    fla = np.array([float(str(f).strip('[').strip(']')) for f in fl])\n",
    "    df[lcol] = fla\n",
    "\n",
    "df['durations_yr'] = df['durations'] / (365.25*24*3600)"
   ]
  },
  {
   "cell_type": "markdown",
   "metadata": {},
   "source": [
    "find out in which rows each particular parameter varies"
   ]
  },
  {
   "cell_type": "code",
   "execution_count": null,
   "metadata": {},
   "outputs": [],
   "source": [
    "param_values = []\n",
    "result_values = []\n",
    "\n",
    "for param in sensitivity_params:\n",
    "    if param == 'durations_yr':\n",
    "        dfr = df.loc[df['durations_yr'] != default_runtime]\n",
    "        param_values.append(dfr[param])\n",
    "        \n",
    "        r = []\n",
    "        for result_param in result_params:\n",
    "            ri = dfr.loc[ind, result_param]\n",
    "            r.append(ri)\n",
    "        result_values.append(r)\n",
    "        \n",
    "    else:\n",
    "        dfb = df.loc[df['runtime_yr'] == default_runtime]\n",
    "        base_ind = dfb.index[0]\n",
    "        ind = dfb[param] != dfb.loc[base_ind, param]\n",
    "        \n",
    "        p = dfb.loc[ind, param]\n",
    "        param_values.append(p)\n",
    "        r = []\n",
    "        for result_param in result_params:\n",
    "            ri = dfb.loc[ind, result_param]\n",
    "            r.append(ri)\n",
    "        result_values.append(r)  "
   ]
  },
  {
   "cell_type": "markdown",
   "metadata": {},
   "source": [
    "find the base case params, this is assumed to be the first model run in the .csv file:"
   ]
  },
  {
   "cell_type": "code",
   "execution_count": null,
   "metadata": {},
   "outputs": [],
   "source": [
    "base_params = []\n",
    "base_results = []\n",
    "for param in sensitivity_params:\n",
    "    dfb = df.loc[df['runtime_yr'] == default_runtime]\n",
    "    base_ind = dfb.index[0]\n",
    "    base_params.append(dfb.loc[base_ind, param])\n",
    "    r = []\n",
    "\n",
    "for result_param in result_params:\n",
    "    ri = dfb.loc[base_ind, result_param]\n",
    "    #r.append(ri)\n",
    "    base_results.append(ri)\n",
    "    \n",
    "print('base case: ', base_params, base_results)"
   ]
  },
  {
   "cell_type": "markdown",
   "metadata": {},
   "source": [
    "show the parameters and model results:"
   ]
  },
  {
   "cell_type": "code",
   "execution_count": null,
   "metadata": {},
   "outputs": [],
   "source": [
    "for param, param_val, result_var in zip(sensitivity_params, param_values, result_values):\n",
    "    print('-------')\n",
    "    print(param)\n",
    "    print (param_val, result_var)"
   ]
  },
  {
   "cell_type": "markdown",
   "metadata": {},
   "source": [
    "make the figure"
   ]
  },
  {
   "cell_type": "code",
   "execution_count": null,
   "metadata": {},
   "outputs": [],
   "source": [
    "fig, panels = pl.subplots(2, 2, figsize=figsize)\n",
    "\n",
    "panelsr = panels.ravel()\n",
    "\n",
    "for j, xlim, ylim in zip(itertools.count(), xlims, ylims):\n",
    "    for i, panel in enumerate(panels[j]):\n",
    "        for param, param_value, base_param, result_value, color, marker, label in zip(sensitivity_params, param_values, base_params, result_values, colors, markers, labels):\n",
    "\n",
    "            if i > 0 or j > 0:\n",
    "                label = ''\n",
    "\n",
    "            if x_axis_scale is 'fraction':\n",
    "                x_values = param_value.values / base_param\n",
    "                x_values = np.append(x_values, [1.0])\n",
    "            \n",
    "            y_values = result_value[i].values\n",
    "            \n",
    "            # add base case values:\n",
    "            y_values = np.append(y_values, [base_results[i]])\n",
    "            \n",
    "            # make sure values are sorted\n",
    "            s = np.argsort(x_values)\n",
    "            \n",
    "            panel.plot(x_values[s], y_values[s], color=color, label='', zorder=100)\n",
    "            panel.scatter(x_values, y_values, color='None', edgecolor=color, marker=marker, s=marker_size, label=label, zorder=101)\n",
    "\n",
    "        # show the base case value:\n",
    "        if i == 0  and j == 0:\n",
    "            blabel = 'base case'\n",
    "        else:\n",
    "            blabel = ''\n",
    "        panel.scatter([1.0], [base_results[i]],\n",
    "                      color='gray', edgecolor='black', marker=base_case_marker,\n",
    "                      s=base_case_marker_size, label=blabel, zorder=102)\n",
    "\n",
    "    for panel, ylabel in zip(panels[j], ylabels):\n",
    "        panel.set_ylabel(ylabel)\n",
    "        panel.set_xlim(xlim)\n",
    "        panel.set_ylim(ylim)\n",
    "\n",
    "for panel in panelsr:\n",
    "    panel.set_xlabel(xlabel)\n",
    "    \n",
    "# make the figure look nicer:\n",
    "for panel in panelsr:\n",
    "    panel.grid(False)\n",
    "    panel.spines['top'].set_visible(False)\n",
    "    panel.spines['right'].set_visible(False)\n",
    "\n",
    "# add a legend\n",
    "fig.subplots_adjust(bottom=0.17)\n",
    "fig.legend(loc='lower center', fontsize=legend_font_size, ncol=legend_ncol, frameon=False)"
   ]
  },
  {
   "cell_type": "markdown",
   "metadata": {},
   "source": [
    "and save the figure:"
   ]
  },
  {
   "cell_type": "code",
   "execution_count": null,
   "metadata": {},
   "outputs": [],
   "source": [
    "# svae the figure as pdf and png file\n",
    "fn = data_file[:-4] + '_sensitivity_fig.pdf'\n",
    "print('done, saving figure as %s' % fn)\n",
    "fig.savefig(fn)"
   ]
  }
 ],
 "metadata": {
  "kernelspec": {
   "display_name": "Python 3",
   "language": "python",
   "name": "python3"
  },
  "language_info": {
   "codemirror_mode": {
    "name": "ipython",
    "version": 3
   },
   "file_extension": ".py",
   "mimetype": "text/x-python",
   "name": "python",
   "nbconvert_exporter": "python",
   "pygments_lexer": "ipython3",
   "version": "3.4.3"
  }
 },
 "nbformat": 4,
 "nbformat_minor": 2
}
