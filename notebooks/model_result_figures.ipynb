{
 "cells": [
  {
   "cell_type": "markdown",
   "metadata": {},
   "source": []
  },
  {
   "cell_type": "code",
   "execution_count": 8,
   "metadata": {},
   "outputs": [],
   "source": [
    "import numpy as np\n",
    "import pandas as pd\n",
    "import matplotlib.pyplot as pl\n",
    "import matplotlib.cm"
   ]
  },
  {
   "cell_type": "code",
   "execution_count": 14,
   "metadata": {},
   "outputs": [],
   "source": [
    "import matplotlib\n",
    "matplotlib.rcParams['mathtext.default'] = 'regular'"
   ]
  },
  {
   "cell_type": "code",
   "execution_count": 15,
   "metadata": {},
   "outputs": [],
   "source": [
    "# name of the file containing the data in .csv format\n",
    "data_file = '/home/elco/python_scripts/beo/model_output/model_params_and_results_3_runs_beowawe_12-7-2018.csv'\n",
    "\n",
    "# name of the index column:\n",
    "index_column = 'row'"
   ]
  },
  {
   "cell_type": "markdown",
   "metadata": {},
   "source": [
    "read the datafile:"
   ]
  },
  {
   "cell_type": "code",
   "execution_count": 16,
   "metadata": {},
   "outputs": [],
   "source": [
    "# read the datafile using pandas:\n",
    "df = pd.read_csv(data_file)\n",
    "df = df.set_index(index_column)"
   ]
  },
  {
   "cell_type": "markdown",
   "metadata": {},
   "source": [
    "parameters for 2d scatter plot"
   ]
  },
  {
   "cell_type": "code",
   "execution_count": 17,
   "metadata": {},
   "outputs": [],
   "source": [
    "x_col = 'runtime_yr'\n",
    "y_cols = ['MAE_temperature_85-18', 'mswd_AHe_samples']\n",
    "\n",
    "filename_add = '_model_error'\n",
    "\n",
    "x_label = 'Duration (yr)'\n",
    "degree_symbol = chr(176)\n",
    "y_labels = ['MAE temperature (%sC)' % degree_symbol, 'MSWD AHe ages']\n",
    "\n",
    "figsize = (8, 4)\n",
    "color = 'gray'\n",
    "size = 50"
   ]
  },
  {
   "cell_type": "code",
   "execution_count": null,
   "metadata": {},
   "outputs": [],
   "source": []
  },
  {
   "cell_type": "code",
   "execution_count": 19,
   "metadata": {},
   "outputs": [
    {
     "data": {
      "image/png": "[encoded data removed]",
      "text/plain": [
       "<Figure size 576x288 with 2 Axes>"
      ]
     },
     "metadata": {},
     "output_type": "display_data"
    }
   ],
   "source": [
    "dfn = df.dropna(subset=[x_col]+y_cols)\n",
    "\n",
    "fig, axs = pl.subplots(1, 2, figsize=figsize)\n",
    "\n",
    "for ax, y_col, y_label in zip(axs, y_cols, y_labels):\n",
    "    ax.scatter(dfn[x_col], dfn[y_col], color=color, edgecolor='black', s=size)\n",
    "\n",
    "    ax.set_xlabel(x_label)\n",
    "    ax.set_ylabel(y_label)\n",
    "\n",
    "    ax.spines['top'].set_visible(False)\n",
    "    ax.spines['right'].set_visible(False)\n",
    "\n",
    "fig.tight_layout()"
   ]
  },
  {
   "cell_type": "code",
   "execution_count": null,
   "metadata": {},
   "outputs": [],
   "source": [
    "fn = data_file[:-4] + filename_add + '.pdf'\n",
    "print('saving figure as %s' % fn)\n",
    "fig.savefig(fn)"
   ]
  },
  {
   "cell_type": "code",
   "execution_count": null,
   "metadata": {},
   "outputs": [],
   "source": []
  }
 ],
 "metadata": {
  "kernelspec": {
   "display_name": "Python 3",
   "language": "python",
   "name": "python3"
  },
  "language_info": {
   "codemirror_mode": {
    "name": "ipython",
    "version": 3
   },
   "file_extension": ".py",
   "mimetype": "text/x-python",
   "name": "python",
   "nbconvert_exporter": "python",
   "pygments_lexer": "ipython3",
   "version": "3.4.3"
  }
 },
 "nbformat": 4,
 "nbformat_minor": 2
}
