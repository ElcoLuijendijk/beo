{
 "cells": [
  {
   "cell_type": "markdown",
   "metadata": {},
   "source": [
    "# Calculation of the heat transfer coefficient of air\n",
    "\n",
    "The heat transfer coefficient is an equivalen thermal conductivity that takes into account sensible and latent heat flux at the land surface. Using a heat transfer coefficient means that heat transport at the surface can be modeled using a standard diffusion equation, without explicitely modeling the sesnible and latent heat fluxes. This is important for accurate models of surface temperatures, for instance around thermal springs"
   ]
  },
  {
   "cell_type": "code",
   "execution_count": 199,
   "metadata": {},
   "outputs": [],
   "source": [
    "import numpy as np\n",
    "import matplotlib.pyplot as pl"
   ]
  },
  {
   "cell_type": "markdown",
   "metadata": {},
   "source": [
    "first lets define some of the parameters that are needed:"
   ]
  },
  {
   "cell_type": "code",
   "execution_count": 200,
   "metadata": {},
   "outputs": [],
   "source": [
    "# density of air\n",
    "rho = 1.29\n",
    "\n",
    "# heat capacity\n",
    "c = 1000.0\n",
    "\n",
    "# measurement height for aerodynamic resistance \n",
    "dz = 2.0\n",
    "\n",
    "# aerodynamic resistance\n",
    "ras_plot = [50.0, 80.0, 110.0]\n",
    "\n",
    "# reference wind speed for plotting (m/s)\n",
    "u_ref = 2.0\n",
    "\n",
    "# wind speed for calculating ra:\n",
    "u = np.linspace(1.0, 5.0, 41)\n",
    "\n",
    "# air temperature\n",
    "Ta = 10.0\n",
    "\n",
    "# surface temperature\n",
    "Ts_plot = np.arange(Ta + 1, 101, 1.0)\n",
    "\n",
    "# specific latent heat of vaporisation\n",
    "L = 2.264e6\n",
    "\n",
    "# air pressure\n",
    "Pa = 1.0e5\n",
    "\n",
    "# relative humdity\n",
    "RH_air = 1.0\n",
    "\n",
    "# von Karman's constant\n",
    "kv = 0.41\n",
    "\n",
    "Ts_ra = 20.0"
   ]
  },
  {
   "cell_type": "markdown",
   "metadata": {},
   "source": [
    "The thermal conductivity of the air layer is calculated using equation for latent and sensible heat flux described below. Following \\citet{Bateni2012} the sensible heat flux H ($W m^{-2}$) at the land surface is given by:\n",
    "\n",
    "\\begin{equation}\n",
    "H = \\dfrac{\\rho c_a}{r_a} (T_a - T_s)\n",
    "\\label{eq:surface_HF_first}\n",
    "\\end{equation}\n",
    "\n",
    "where $\\rho$ is density ($kg \\; m^{-3}$), $c_a$ is the specific heat of air ($J \\; kg^{-1} K^{-1}$), $r_a$ is the aerodynamic resistance ($s \\; m^{-1}$), $T_a$ is the air temperature at a reference level (degr. C) and $T_s$ is the surface temperature (degr. C). Rewriting this to the conductive heat flow equation gives a value for the effective thermal conductivity ($K_s$) between the surface and the reference level $z$:\n",
    "\n",
    "\\begin{equation}\n",
    "K_s =\\dfrac{\\rho c}{r_a} \\Delta z\n",
    "\\end{equation}\n",
    "\n",
    "where $\\Delta z$ is the difference between the surface and the reference level ($m$).  \n",
    "\n",
    "Latent heat flux is given by \\citep{Bateni2012}:\n",
    "\n",
    "\\begin{equation}\n",
    "LE = \\dfrac{\\rho_a L}{r_a} (q_s - q_a)\n",
    "\\end{equation}\n",
    "\n",
    "where $LE$ is the latent heat flux ($W m^{-2}$), $\\rho_a$ is the density of air ($kg m^{-3}$), $L$ is the specific latent heat of vaporisation ($J kg^{-1}$), which is 334000 $J kg^{-1}$, $q_s$ is the saturated specific humidity at the surface temperature $kg kg^{-1}$), $q_a$ is the humidity of the air ($kg kg^{-1}$). Rewriting this yield the heat transfer coefficient for latent heat flux ($K_l$):\n",
    "\n",
    "\\begin{equation}\n",
    "K_l = \\dfrac{\\rho  L  \\Delta z}{r_a}  \\dfrac{q_s - q_a}{T_s - T_a}\n",
    "\\end{equation}\n",
    "\n",
    "The saturated specific humidity ($q_s$) was calculated as \\citep{Monteith1981}:\n",
    "\n",
    "\\begin{equation}\n",
    "q_s = 0.622 \\dfrac{e_s}{P_a}\n",
    "\\end{equation}\n",
    "\n",
    "where $e_s$ is saturated air vapor pressure (Pa), $P_a$ is surface air pressure (Pa). The saturated air vapor pressure was calculated using the Magnus equation \\citep{alduchov1996}:\n",
    "\n",
    "\\begin{equation}\n",
    "e_s = 0.61094 \\; e ^{\\left(\\dfrac{17.625 T}{T + 243.04} \\right)}\n",
    "\\end{equation}\n",
    "\n",
    "Air pressure was assumed to be $1 \\times 10^5$ \\unit{Pa}. The thermal conductivity assigned in the air layer is the sum of the heat transfer coefficient for latent heat flux ($K_l$) and sensible heat flux ($K_s$)."
   ]
  },
  {
   "cell_type": "markdown",
   "metadata": {},
   "source": [
    "next calculate the sensible heat flux (H), the latent heat flux (LE) and the heat transfer coefficients for sensible and latent heat flux (Ks and Kl). The equations are based on Bateni and Entekhabi (2012) WRR 48 (4)."
   ]
  },
  {
   "cell_type": "code",
   "execution_count": 201,
   "metadata": {},
   "outputs": [],
   "source": [
    "def Magnus_eq(T):\n",
    "    \n",
    "    P = 0.61094 * np.exp(17.625 * T / (T + 243.04))\n",
    "        \n",
    "    return P * 1000.0\n",
    "\n",
    "\n",
    "def calculate_heat_transfer_coeff_sensible_hf(rho, c, ra, dz):\n",
    "    \"\"\"\n",
    "    \n",
    "    \"\"\"\n",
    "    \n",
    "    Ksi = rho * c / ra * dz\n",
    "        \n",
    "    return Ksi\n",
    "\n",
    "\n",
    "def calculate_heat_transfer_coeff_latent_hf(Ts, Ta, Pa, RH_air, rho, L, dz, ra):\n",
    "    \"\"\"\n",
    "    \n",
    "    \"\"\"\n",
    "    \n",
    "    esa = Magnus_eq(Ta)\n",
    "    qa_sat = 0.622 * esa / Pa\n",
    "    qa = qa_sat * RH_air\n",
    "\n",
    "    ess = Magnus_eq(Ts)\n",
    "    qs = 0.622 * ess / Pa\n",
    "    \n",
    "    Kl = rho * L * dz / ra * (qs - qa) / (Ts - Ta)\n",
    "\n",
    "    return Kl\n",
    "\n",
    "Kss = []\n",
    "Kls = []\n",
    "Kts = []\n",
    "\n",
    "for ra in ras_plot:\n",
    "\n",
    "    H = rho * c / ra * (Ts_plot - Ta)\n",
    "\n",
    "    #print('calculated sensible heat flux = %0.2f W m-2' % H)\n",
    "\n",
    "    #Ksi = rho * c / ra * dz\n",
    "    Ksi = calculate_heat_transfer_coeff_sensible_hf(rho, c, ra, dz)\n",
    "    Ks = np.ones_like(Ts_plot) * Ksi\n",
    "    #print('calculated conductivity for sensible heat flux: %0.2f W m-1 K-1' % Ks)\n",
    "\n",
    "    # calculate saturated specific humidity surface and air\n",
    "    esa = Magnus_eq(Ta)\n",
    "    qa_sat = 0.622 * esa / Pa\n",
    "    qa = qa_sat * RH_air\n",
    "\n",
    "    ess = Magnus_eq(Ts_plot)\n",
    "    qs = 0.622 * ess / Pa\n",
    "\n",
    "    LE = rho * L / ra * (qs - qa)\n",
    "\n",
    "    #print('calculated potential latent heat flux = %0.2f W m-2' % LE)\n",
    "\n",
    "    #Kl = rho * L * dz / ra * (qs - qa) / (Ts - Ta)\n",
    "    Kl = calculate_heat_transfer_coeff_latent_hf(Ts_plot, Ta, Pa, RH_air, rho, L, dz, ra)\n",
    "    \n",
    "    #print('calculated conductivity for latent heat flux: %0.2f W m-1 K-1' % Kl)\n",
    "\n",
    "    #K = (H + LE) * dz / (Ts - Ta)\n",
    "    K = Ks + Kl\n",
    "    \n",
    "    Kss.append(Ks)\n",
    "    Kls.append(Kl)\n",
    "    Kts.append(K)"
   ]
  },
  {
   "cell_type": "markdown",
   "metadata": {},
   "source": [
    "and finally make a figure of the heat transfer coefficient and how it depends on temperature:"
   ]
  },
  {
   "cell_type": "code",
   "execution_count": 204,
   "metadata": {},
   "outputs": [
    {
     "data": {
      "image/png": "[encoded data removed]",
      "text/plain": [
       "<Figure size 432x288 with 1 Axes>"
      ]
     },
     "metadata": {},
     "output_type": "display_data"
    }
   ],
   "source": [
    "fig, ax = pl.subplots(1, 1)\n",
    "\n",
    "legs2 = []\n",
    "\n",
    "for Ktsi, Kssi, Klsi, color in zip(Kts, Kss, Kls, colors):\n",
    "    leg_bulk, = ax.plot(Ts_plot, Ktsi, color=color, lw=1.0, ls='-')\n",
    "    leg_sens, = ax.plot(Ts_plot, Kssi, color=color, lw=1.5, ls='--')\n",
    "    leg_lat, = ax.plot(Ts_plot, Klsi, color=color, lw=1.5, ls=':')\n",
    "    \n",
    "    legs2.append(leg_bulk)\n",
    "    \n",
    "degree_symbol = chr(176)\n",
    "ax.set_xlabel('Temperature (%sC)' % degree_symbol)\n",
    "ax.set_ylabel(r'Heat transfer coefficient (W m$^{-1}$ K$^{-1}$)')\n",
    "\n",
    "legs = [leg_bulk, leg_sens, leg_lat]\n",
    "labels_fig2 = ['bulk', 'sensible heat', 'latent_heat', ]\n",
    "\n",
    "legs += legs2\n",
    "labels_fig2 += [r'$ra=50\\;  s\\;  m^{-1}$', r'$ra=80 \\; s \\; m^{-1}$', r'$ra=110\\;  s\\;  m^{-1}$']\n",
    "\n",
    "ax.legend(legs, labels_fig2, frameon=False, loc='upper left')\n",
    "\n",
    "ax.spines['top'].set_visible(False)\n",
    "ax.spines['right'].set_visible(False)\n",
    "\n",
    "fig.savefig('fig/heat_transfer_coefficient.pdf')"
   ]
  },
  {
   "cell_type": "code",
   "execution_count": null,
   "metadata": {},
   "outputs": [],
   "source": []
  }
 ],
 "metadata": {
  "kernelspec": {
   "display_name": "Python 3",
   "language": "python",
   "name": "python3"
  },
  "language_info": {
   "codemirror_mode": {
    "name": "ipython",
    "version": 3
   },
   "file_extension": ".py",
   "mimetype": "text/x-python",
   "name": "python",
   "nbconvert_exporter": "python",
   "pygments_lexer": "ipython3",
   "version": "3.6.5"
  }
 },
 "nbformat": 4,
 "nbformat_minor": 2
}
